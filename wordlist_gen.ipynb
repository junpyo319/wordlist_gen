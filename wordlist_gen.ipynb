{
  "nbformat": 4,
  "nbformat_minor": 0,
  "metadata": {
    "colab": {
      "name": "wordlist_gen.ipynb",
      "provenance": [],
      "collapsed_sections": [],
      "authorship_tag": "ABX9TyNaxu2TEtmu76LSqtSw6nVL",
      "include_colab_link": true
    },
    "kernelspec": {
      "name": "python3",
      "display_name": "Python 3"
    },
    "language_info": {
      "name": "python"
    }
  },
  "cells": [
    {
      "cell_type": "markdown",
      "metadata": {
        "id": "view-in-github",
        "colab_type": "text"
      },
      "source": [
        "<a href=\"https://colab.research.google.com/github/junpyo319/junpyo319_colab/blob/main/wordlist_gen.ipynb\" target=\"_parent\"><img src=\"https://colab.research.google.com/assets/colab-badge.svg\" alt=\"Open In Colab\"/></a>"
      ]
    },
    {
      "cell_type": "code",
      "metadata": {
        "colab": {
          "base_uri": "https://localhost:8080/"
        },
        "id": "o8tY6wH1BgGr",
        "outputId": "c39dbdb1-5552-4453-c806-8fad8a3b1627"
      },
      "source": [
        "import re\n",
        "import itertools\n",
        "\n",
        "header = 'wordlist_gen..'\n",
        "\n",
        "len_opt = input('set length.. e.g. 4:8..')\n",
        "\n",
        "def get_len() :\n",
        "  return re.split(':',len_opt)\n",
        "\n",
        "def get_chrset() :\n",
        "  chrset_opt = input('Do you want to specify char set? (y/n)')\n",
        "\n",
        "  if chrset_opt == 'y' :\n",
        "    chrset_tmp = input('input char set.. e.g. abcd')\n",
        "    return [char for char in chrset_tmp]\n",
        "\n",
        "  elif chrset_opt == 'n' :\n",
        "    chrset = 'abcdefghijklmnopqrstuvwxyz'\n",
        "    return re.split(chrset)\n",
        "  else:\n",
        "    get_chrset()\n",
        "\n",
        "# def get_outpath() :\n",
        "#  outpath_opt = input('Do you want to output the list? (y/n)')\n",
        "#  if outpath_opt == 'y' :\n",
        "#    outpath = input('input outpath.. e.g.')\n",
        "#    return [char for char in chrset_tmp]\n",
        "\n",
        "#  elif outpath_opt == 'n' :\n",
        "#    outpath = False\n",
        "#  else:\n",
        "#    outpath_opt()\n",
        "\n",
        "len = get_len()\n",
        "chrset = get_chrset()\n",
        "\n",
        "def print_list(len, chrset) :\n",
        "  for len[0] < len[1] :\n",
        "    for \n",
        "  len[0]++\n",
        "\n",
        "\n",
        "print(len)\n",
        "print(chrset)"
      ],
      "execution_count": null,
      "outputs": [
        {
          "output_type": "stream",
          "text": [
            "set length.. e.g. 4:8..4:8\n",
            "Do you want to specify char set? (y/n)y\n",
            "input char set.. e.g. abcdabcde\n",
            "['', '/content', '/env/python', '/usr/lib/python37.zip', '/usr/lib/python3.7', '/usr/lib/python3.7/lib-dynload', '/usr/local/lib/python3.7/dist-packages', '/usr/lib/python3/dist-packages', '/usr/local/lib/python3.7/dist-packages/IPython/extensions', '/root/.ipython']\n",
            "['4', '8']\n",
            "['a', 'b', 'c', 'd', 'e']\n"
          ],
          "name": "stdout"
        }
      ]
    },
    {
      "cell_type": "code",
      "metadata": {
        "id": "vfCBfOkuDngH"
      },
      "source": [
        "_"
      ],
      "execution_count": null,
      "outputs": []
    }
  ]
}